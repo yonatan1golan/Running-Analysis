{
 "cells": [
  {
   "cell_type": "markdown",
   "source": [
    "# Running Analysis\n",
    "## Garmin data"
   ],
   "metadata": {
    "collapsed": false,
    "pycharm": {
     "name": "#%% md\n"
    }
   }
  },
  {
   "cell_type": "markdown",
   "source": [
    "### Imports"
   ],
   "metadata": {
    "collapsed": false,
    "pycharm": {
     "name": "#%% md\n"
    }
   }
  },
  {
   "cell_type": "code",
   "execution_count": 595,
   "outputs": [],
   "source": [
    "import pandas as pd\n",
    "import numpy as np\n",
    "import matplotlib.pyplot as plt\n",
    "import seaborn as sns\n",
    "import datetime as dt"
   ],
   "metadata": {
    "collapsed": false,
    "pycharm": {
     "name": "#%%\n"
    }
   }
  },
  {
   "cell_type": "markdown",
   "source": [
    "### loading"
   ],
   "metadata": {
    "collapsed": false,
    "pycharm": {
     "name": "#%% md\n"
    }
   }
  },
  {
   "cell_type": "code",
   "execution_count": 596,
   "outputs": [
    {
     "data": {
      "text/plain": "  Activity Type              Date  Distance  Calories Duration  Avg HR  \\\n0       Running  12/09/2022 21:00      7.01       464  0:41:59       0   \n1       Running  08/09/2022 20:02      5.00       329  0:28:19       0   \n2       Running  05/09/2022 20:50      7.01       460  0:40:02       0   \n3       Running  03/09/2022 20:10      7.00       464  0:41:36       0   \n4       Running  01/09/2022 20:42      5.01       331  0:28:57       0   \n\n   Max HR  Avg Run Cadence  Max Run Cadence Avg Pace  ... Total Descent  \\\n0       0              169              192     6:00  ...            55   \n1       0              168              176     5:39  ...            34   \n2       0              169              175     5:43  ...            57   \n3       0              170              182     5:56  ...            53   \n4       0              167              175     5:47  ...            35   \n\n  Avg Stride Length Moving Time  Elapsed Time Min Elevation Max Elevation  \\\n0              0.99     0:41:54       0:41:59            50            80   \n1              1.05     0:28:18       0:28:24            55            80   \n2              1.04     0:39:56       0:40:02            50            80   \n3              0.99     0:41:34       0:41:36            52            78   \n4              1.03     0:28:50       0:28:57            50            79   \n\n  Effort Self Feel Route Index      Place  \n0      9         3           1  Ein Vered  \n1      8         5           2  Ein Vered  \n2      8         5           1  Ein Vered  \n3      7         5           1  Ein Vered  \n4      8         5           3  Ein Vered  \n\n[5 rows x 22 columns]",
      "text/html": "<div>\n<style scoped>\n    .dataframe tbody tr th:only-of-type {\n        vertical-align: middle;\n    }\n\n    .dataframe tbody tr th {\n        vertical-align: top;\n    }\n\n    .dataframe thead th {\n        text-align: right;\n    }\n</style>\n<table border=\"1\" class=\"dataframe\">\n  <thead>\n    <tr style=\"text-align: right;\">\n      <th></th>\n      <th>Activity Type</th>\n      <th>Date</th>\n      <th>Distance</th>\n      <th>Calories</th>\n      <th>Duration</th>\n      <th>Avg HR</th>\n      <th>Max HR</th>\n      <th>Avg Run Cadence</th>\n      <th>Max Run Cadence</th>\n      <th>Avg Pace</th>\n      <th>...</th>\n      <th>Total Descent</th>\n      <th>Avg Stride Length</th>\n      <th>Moving Time</th>\n      <th>Elapsed Time</th>\n      <th>Min Elevation</th>\n      <th>Max Elevation</th>\n      <th>Effort</th>\n      <th>Self Feel</th>\n      <th>Route Index</th>\n      <th>Place</th>\n    </tr>\n  </thead>\n  <tbody>\n    <tr>\n      <th>0</th>\n      <td>Running</td>\n      <td>12/09/2022 21:00</td>\n      <td>7.01</td>\n      <td>464</td>\n      <td>0:41:59</td>\n      <td>0</td>\n      <td>0</td>\n      <td>169</td>\n      <td>192</td>\n      <td>6:00</td>\n      <td>...</td>\n      <td>55</td>\n      <td>0.99</td>\n      <td>0:41:54</td>\n      <td>0:41:59</td>\n      <td>50</td>\n      <td>80</td>\n      <td>9</td>\n      <td>3</td>\n      <td>1</td>\n      <td>Ein Vered</td>\n    </tr>\n    <tr>\n      <th>1</th>\n      <td>Running</td>\n      <td>08/09/2022 20:02</td>\n      <td>5.00</td>\n      <td>329</td>\n      <td>0:28:19</td>\n      <td>0</td>\n      <td>0</td>\n      <td>168</td>\n      <td>176</td>\n      <td>5:39</td>\n      <td>...</td>\n      <td>34</td>\n      <td>1.05</td>\n      <td>0:28:18</td>\n      <td>0:28:24</td>\n      <td>55</td>\n      <td>80</td>\n      <td>8</td>\n      <td>5</td>\n      <td>2</td>\n      <td>Ein Vered</td>\n    </tr>\n    <tr>\n      <th>2</th>\n      <td>Running</td>\n      <td>05/09/2022 20:50</td>\n      <td>7.01</td>\n      <td>460</td>\n      <td>0:40:02</td>\n      <td>0</td>\n      <td>0</td>\n      <td>169</td>\n      <td>175</td>\n      <td>5:43</td>\n      <td>...</td>\n      <td>57</td>\n      <td>1.04</td>\n      <td>0:39:56</td>\n      <td>0:40:02</td>\n      <td>50</td>\n      <td>80</td>\n      <td>8</td>\n      <td>5</td>\n      <td>1</td>\n      <td>Ein Vered</td>\n    </tr>\n    <tr>\n      <th>3</th>\n      <td>Running</td>\n      <td>03/09/2022 20:10</td>\n      <td>7.00</td>\n      <td>464</td>\n      <td>0:41:36</td>\n      <td>0</td>\n      <td>0</td>\n      <td>170</td>\n      <td>182</td>\n      <td>5:56</td>\n      <td>...</td>\n      <td>53</td>\n      <td>0.99</td>\n      <td>0:41:34</td>\n      <td>0:41:36</td>\n      <td>52</td>\n      <td>78</td>\n      <td>7</td>\n      <td>5</td>\n      <td>1</td>\n      <td>Ein Vered</td>\n    </tr>\n    <tr>\n      <th>4</th>\n      <td>Running</td>\n      <td>01/09/2022 20:42</td>\n      <td>5.01</td>\n      <td>331</td>\n      <td>0:28:57</td>\n      <td>0</td>\n      <td>0</td>\n      <td>167</td>\n      <td>175</td>\n      <td>5:47</td>\n      <td>...</td>\n      <td>35</td>\n      <td>1.03</td>\n      <td>0:28:50</td>\n      <td>0:28:57</td>\n      <td>50</td>\n      <td>79</td>\n      <td>8</td>\n      <td>5</td>\n      <td>3</td>\n      <td>Ein Vered</td>\n    </tr>\n  </tbody>\n</table>\n<p>5 rows × 22 columns</p>\n</div>"
     },
     "execution_count": 596,
     "metadata": {},
     "output_type": "execute_result"
    }
   ],
   "source": [
    "def load_data(file: str) -> pd.DataFrame:\n",
    "    \"\"\"\n",
    "    param file: the name of the file with the running data\n",
    "    :return: dataframe with the data\n",
    "    \"\"\"\n",
    "    return pd.read_csv(file)\n",
    "file = r\"running_activities.csv\"\n",
    "data = load_data(file)\n",
    "data.rename(columns = {\"Time\" : \"Duration\"}, inplace=True)\n",
    "data.head()"
   ],
   "metadata": {
    "collapsed": false,
    "pycharm": {
     "name": "#%%\n"
    }
   }
  },
  {
   "cell_type": "markdown",
   "source": [
    "### Data pre-proccessing"
   ],
   "metadata": {
    "collapsed": false,
    "pycharm": {
     "name": "#%% md\n"
    }
   }
  },
  {
   "cell_type": "markdown",
   "source": [
    "#### filtering all the five km runs"
   ],
   "metadata": {
    "collapsed": false,
    "pycharm": {
     "name": "#%% md\n"
    }
   }
  },
  {
   "cell_type": "code",
   "execution_count": 597,
   "outputs": [
    {
     "data": {
      "text/plain": "        Distance    Calories      Avg HR      Max HR  Avg Run Cadence  \\\ncount  88.000000   88.000000   88.000000   88.000000        88.000000   \nmean    5.005568  343.090909  122.806818  134.375000       166.170455   \nstd     0.011127   16.713706   75.767014   82.805868         2.496994   \nmin     5.000000  316.000000    0.000000    0.000000       157.000000   \n25%     5.000000  329.000000    0.000000    0.000000       165.000000   \n50%     5.000000  341.500000  167.000000  183.000000       167.000000   \n75%     5.010000  353.500000  171.250000  186.000000       168.000000   \nmax     5.090000  396.000000  179.000000  195.000000       170.000000   \n\n       Max Run Cadence  Avg Stride Length  Route Index  \ncount        88.000000          88.000000    88.000000  \nmean        177.886364           1.047727     8.920455  \nstd          10.033773           0.065526     4.381837  \nmin         169.000000           0.700000     2.000000  \n25%         173.000000           1.040000     4.750000  \n50%         176.000000           1.060000    10.000000  \n75%         178.000000           1.080000    11.000000  \nmax         227.000000           1.150000    18.000000  ",
      "text/html": "<div>\n<style scoped>\n    .dataframe tbody tr th:only-of-type {\n        vertical-align: middle;\n    }\n\n    .dataframe tbody tr th {\n        vertical-align: top;\n    }\n\n    .dataframe thead th {\n        text-align: right;\n    }\n</style>\n<table border=\"1\" class=\"dataframe\">\n  <thead>\n    <tr style=\"text-align: right;\">\n      <th></th>\n      <th>Distance</th>\n      <th>Calories</th>\n      <th>Avg HR</th>\n      <th>Max HR</th>\n      <th>Avg Run Cadence</th>\n      <th>Max Run Cadence</th>\n      <th>Avg Stride Length</th>\n      <th>Route Index</th>\n    </tr>\n  </thead>\n  <tbody>\n    <tr>\n      <th>count</th>\n      <td>88.000000</td>\n      <td>88.000000</td>\n      <td>88.000000</td>\n      <td>88.000000</td>\n      <td>88.000000</td>\n      <td>88.000000</td>\n      <td>88.000000</td>\n      <td>88.000000</td>\n    </tr>\n    <tr>\n      <th>mean</th>\n      <td>5.005568</td>\n      <td>343.090909</td>\n      <td>122.806818</td>\n      <td>134.375000</td>\n      <td>166.170455</td>\n      <td>177.886364</td>\n      <td>1.047727</td>\n      <td>8.920455</td>\n    </tr>\n    <tr>\n      <th>std</th>\n      <td>0.011127</td>\n      <td>16.713706</td>\n      <td>75.767014</td>\n      <td>82.805868</td>\n      <td>2.496994</td>\n      <td>10.033773</td>\n      <td>0.065526</td>\n      <td>4.381837</td>\n    </tr>\n    <tr>\n      <th>min</th>\n      <td>5.000000</td>\n      <td>316.000000</td>\n      <td>0.000000</td>\n      <td>0.000000</td>\n      <td>157.000000</td>\n      <td>169.000000</td>\n      <td>0.700000</td>\n      <td>2.000000</td>\n    </tr>\n    <tr>\n      <th>25%</th>\n      <td>5.000000</td>\n      <td>329.000000</td>\n      <td>0.000000</td>\n      <td>0.000000</td>\n      <td>165.000000</td>\n      <td>173.000000</td>\n      <td>1.040000</td>\n      <td>4.750000</td>\n    </tr>\n    <tr>\n      <th>50%</th>\n      <td>5.000000</td>\n      <td>341.500000</td>\n      <td>167.000000</td>\n      <td>183.000000</td>\n      <td>167.000000</td>\n      <td>176.000000</td>\n      <td>1.060000</td>\n      <td>10.000000</td>\n    </tr>\n    <tr>\n      <th>75%</th>\n      <td>5.010000</td>\n      <td>353.500000</td>\n      <td>171.250000</td>\n      <td>186.000000</td>\n      <td>168.000000</td>\n      <td>178.000000</td>\n      <td>1.080000</td>\n      <td>11.000000</td>\n    </tr>\n    <tr>\n      <th>max</th>\n      <td>5.090000</td>\n      <td>396.000000</td>\n      <td>179.000000</td>\n      <td>195.000000</td>\n      <td>170.000000</td>\n      <td>227.000000</td>\n      <td>1.150000</td>\n      <td>18.000000</td>\n    </tr>\n  </tbody>\n</table>\n</div>"
     },
     "execution_count": 597,
     "metadata": {},
     "output_type": "execute_result"
    }
   ],
   "source": [
    "epsilon_of_five = 0.1\n",
    "five_km_runs = data.loc[(data[\"Distance\"] >= 5-epsilon_of_five) & (data[\"Distance\"] <= 5+epsilon_of_five)]\n",
    "five_km_runs = five_km_runs.reset_index(drop=True)\n",
    "five_km_runs.describe()"
   ],
   "metadata": {
    "collapsed": false,
    "pycharm": {
     "name": "#%%\n"
    }
   }
  },
  {
   "cell_type": "markdown",
   "source": [
    "#### re-arranging the dataframe"
   ],
   "metadata": {
    "collapsed": false,
    "pycharm": {
     "name": "#%% md\n"
    }
   }
  },
  {
   "cell_type": "code",
   "execution_count": 598,
   "outputs": [
    {
     "data": {
      "text/plain": "  Activity Type        Date      Time  Distance  Calories Duration  Avg HR  \\\n0       Running  2022-08-09  20:02:00      5.00       329  0:28:19       0   \n1       Running  2022-01-09  20:42:00      5.01       331  0:28:57       0   \n2       Running  2022-08-25  18:58:00      5.01       321  0:28:10       0   \n3       Running  2022-08-22  20:32:00      5.00       333  0:29:10       0   \n4       Running  2022-08-18  18:45:00      5.01       328  0:28:11       0   \n\n   Max HR  Avg Run Cadence  Max Run Cadence  ... Total Descent  \\\n0       0              168              176  ...            34   \n1       0              167              175  ...            35   \n2       0              167              173  ...            45   \n3       0              169              175  ...            32   \n4       0              168              176  ...            43   \n\n  Avg Stride Length Moving Time Elapsed Time  Min Elevation Max Elevation  \\\n0              1.05     0:28:18      0:28:24             55            80   \n1              1.03     0:28:50      0:28:57             50            79   \n2              1.06     0:27:40      0:28:10             53            81   \n3              1.01     0:29:03      0:29:10             54            78   \n4              1.06     0:28:06      0:28:11             53            81   \n\n  Effort Self Feel Route Index      Place  \n0      8         5           2  Ein Vered  \n1      8         5           3  Ein Vered  \n2      7         5           4  Ein Vered  \n3     10         4           3  Ein Vered  \n4      9         5           3  Ein Vered  \n\n[5 rows x 23 columns]",
      "text/html": "<div>\n<style scoped>\n    .dataframe tbody tr th:only-of-type {\n        vertical-align: middle;\n    }\n\n    .dataframe tbody tr th {\n        vertical-align: top;\n    }\n\n    .dataframe thead th {\n        text-align: right;\n    }\n</style>\n<table border=\"1\" class=\"dataframe\">\n  <thead>\n    <tr style=\"text-align: right;\">\n      <th></th>\n      <th>Activity Type</th>\n      <th>Date</th>\n      <th>Time</th>\n      <th>Distance</th>\n      <th>Calories</th>\n      <th>Duration</th>\n      <th>Avg HR</th>\n      <th>Max HR</th>\n      <th>Avg Run Cadence</th>\n      <th>Max Run Cadence</th>\n      <th>...</th>\n      <th>Total Descent</th>\n      <th>Avg Stride Length</th>\n      <th>Moving Time</th>\n      <th>Elapsed Time</th>\n      <th>Min Elevation</th>\n      <th>Max Elevation</th>\n      <th>Effort</th>\n      <th>Self Feel</th>\n      <th>Route Index</th>\n      <th>Place</th>\n    </tr>\n  </thead>\n  <tbody>\n    <tr>\n      <th>0</th>\n      <td>Running</td>\n      <td>2022-08-09</td>\n      <td>20:02:00</td>\n      <td>5.00</td>\n      <td>329</td>\n      <td>0:28:19</td>\n      <td>0</td>\n      <td>0</td>\n      <td>168</td>\n      <td>176</td>\n      <td>...</td>\n      <td>34</td>\n      <td>1.05</td>\n      <td>0:28:18</td>\n      <td>0:28:24</td>\n      <td>55</td>\n      <td>80</td>\n      <td>8</td>\n      <td>5</td>\n      <td>2</td>\n      <td>Ein Vered</td>\n    </tr>\n    <tr>\n      <th>1</th>\n      <td>Running</td>\n      <td>2022-01-09</td>\n      <td>20:42:00</td>\n      <td>5.01</td>\n      <td>331</td>\n      <td>0:28:57</td>\n      <td>0</td>\n      <td>0</td>\n      <td>167</td>\n      <td>175</td>\n      <td>...</td>\n      <td>35</td>\n      <td>1.03</td>\n      <td>0:28:50</td>\n      <td>0:28:57</td>\n      <td>50</td>\n      <td>79</td>\n      <td>8</td>\n      <td>5</td>\n      <td>3</td>\n      <td>Ein Vered</td>\n    </tr>\n    <tr>\n      <th>2</th>\n      <td>Running</td>\n      <td>2022-08-25</td>\n      <td>18:58:00</td>\n      <td>5.01</td>\n      <td>321</td>\n      <td>0:28:10</td>\n      <td>0</td>\n      <td>0</td>\n      <td>167</td>\n      <td>173</td>\n      <td>...</td>\n      <td>45</td>\n      <td>1.06</td>\n      <td>0:27:40</td>\n      <td>0:28:10</td>\n      <td>53</td>\n      <td>81</td>\n      <td>7</td>\n      <td>5</td>\n      <td>4</td>\n      <td>Ein Vered</td>\n    </tr>\n    <tr>\n      <th>3</th>\n      <td>Running</td>\n      <td>2022-08-22</td>\n      <td>20:32:00</td>\n      <td>5.00</td>\n      <td>333</td>\n      <td>0:29:10</td>\n      <td>0</td>\n      <td>0</td>\n      <td>169</td>\n      <td>175</td>\n      <td>...</td>\n      <td>32</td>\n      <td>1.01</td>\n      <td>0:29:03</td>\n      <td>0:29:10</td>\n      <td>54</td>\n      <td>78</td>\n      <td>10</td>\n      <td>4</td>\n      <td>3</td>\n      <td>Ein Vered</td>\n    </tr>\n    <tr>\n      <th>4</th>\n      <td>Running</td>\n      <td>2022-08-18</td>\n      <td>18:45:00</td>\n      <td>5.01</td>\n      <td>328</td>\n      <td>0:28:11</td>\n      <td>0</td>\n      <td>0</td>\n      <td>168</td>\n      <td>176</td>\n      <td>...</td>\n      <td>43</td>\n      <td>1.06</td>\n      <td>0:28:06</td>\n      <td>0:28:11</td>\n      <td>53</td>\n      <td>81</td>\n      <td>9</td>\n      <td>5</td>\n      <td>3</td>\n      <td>Ein Vered</td>\n    </tr>\n  </tbody>\n</table>\n<p>5 rows × 23 columns</p>\n</div>"
     },
     "execution_count": 598,
     "metadata": {},
     "output_type": "execute_result"
    }
   ],
   "source": [
    "five_km_runs[\"Dates\"] = pd.to_datetime(five_km_runs[\"Date\"]).dt.date\n",
    "five_km_runs[\"Time\"] = pd.to_datetime(five_km_runs[\"Date\"]).dt.time\n",
    "five_km_runs = five_km_runs.drop(\"Date\", axis=1)\n",
    "five_km_runs.rename(columns = {\"Dates\" : \"Date\"}, inplace=True)\n",
    "cols = list(five_km_runs)\n",
    "cols.insert(1, cols.pop(cols.index(\"Date\")))\n",
    "cols.insert(2, cols.pop(cols.index(\"Time\")))\n",
    "five_km_runs = five_km_runs.loc[:, cols]\n",
    "five_km_runs.head(5)"
   ],
   "metadata": {
    "collapsed": false,
    "pycharm": {
     "name": "#%%\n"
    }
   }
  },
  {
   "cell_type": "markdown",
   "source": [
    "#### dividing the runs per season"
   ],
   "metadata": {
    "collapsed": false,
    "pycharm": {
     "name": "#%% md\n"
    }
   }
  },
  {
   "cell_type": "code",
   "execution_count": 599,
   "outputs": [],
   "source": [
    "summer_months = [5, 6, 7, 8, 9, 10]\n",
    "winter_months = [1, 2, 3, 4, 11, 12]\n",
    "summer_runs = pd.DataFrame()\n",
    "winter_runs = pd.DataFrame()\n",
    "for date in five_km_runs[\"Date\"]:\n",
    "    if date.month in summer_months:\n",
    "        summer_runs = pd.concat([summer_runs, five_km_runs[five_km_runs[\"Date\"] == date]], ignore_index=True, axis = 0)\n",
    "    else:\n",
    "        winter_runs = pd.concat([winter_runs, five_km_runs[five_km_runs[\"Date\"] == date]], ignore_index=True, axis = 0)"
   ],
   "metadata": {
    "collapsed": false,
    "pycharm": {
     "name": "#%%\n"
    }
   }
  },
  {
   "cell_type": "code",
   "execution_count": 600,
   "outputs": [
    {
     "data": {
      "text/plain": "        Distance    Calories      Avg HR      Max HR  Avg Run Cadence  \\\ncount  55.000000   55.000000   55.000000   55.000000        55.000000   \nmean    5.006727  343.581818  107.436364  116.781818       165.854545   \nstd     0.013341   18.708971   82.095871   89.120537         2.676497   \nmin     5.000000  321.000000    0.000000    0.000000       157.000000   \n25%     5.000000  329.000000    0.000000    0.000000       164.000000   \n50%     5.000000  336.000000  165.000000  182.000000       167.000000   \n75%     5.010000  355.000000  171.500000  184.500000       168.000000   \nmax     5.090000  396.000000  179.000000  189.000000       170.000000   \n\n       Max Run Cadence  Avg Stride Length  Route Index  \ncount        55.000000          55.000000    55.000000  \nmean        178.927273           1.039091     8.709091  \nstd          12.212402           0.077990     4.483190  \nmin         169.000000           0.700000     2.000000  \n25%         173.000000           1.030000     4.000000  \n50%         176.000000           1.060000    10.000000  \n75%         179.000000           1.080000    11.000000  \nmax         227.000000           1.150000    18.000000  ",
      "text/html": "<div>\n<style scoped>\n    .dataframe tbody tr th:only-of-type {\n        vertical-align: middle;\n    }\n\n    .dataframe tbody tr th {\n        vertical-align: top;\n    }\n\n    .dataframe thead th {\n        text-align: right;\n    }\n</style>\n<table border=\"1\" class=\"dataframe\">\n  <thead>\n    <tr style=\"text-align: right;\">\n      <th></th>\n      <th>Distance</th>\n      <th>Calories</th>\n      <th>Avg HR</th>\n      <th>Max HR</th>\n      <th>Avg Run Cadence</th>\n      <th>Max Run Cadence</th>\n      <th>Avg Stride Length</th>\n      <th>Route Index</th>\n    </tr>\n  </thead>\n  <tbody>\n    <tr>\n      <th>count</th>\n      <td>55.000000</td>\n      <td>55.000000</td>\n      <td>55.000000</td>\n      <td>55.000000</td>\n      <td>55.000000</td>\n      <td>55.000000</td>\n      <td>55.000000</td>\n      <td>55.000000</td>\n    </tr>\n    <tr>\n      <th>mean</th>\n      <td>5.006727</td>\n      <td>343.581818</td>\n      <td>107.436364</td>\n      <td>116.781818</td>\n      <td>165.854545</td>\n      <td>178.927273</td>\n      <td>1.039091</td>\n      <td>8.709091</td>\n    </tr>\n    <tr>\n      <th>std</th>\n      <td>0.013341</td>\n      <td>18.708971</td>\n      <td>82.095871</td>\n      <td>89.120537</td>\n      <td>2.676497</td>\n      <td>12.212402</td>\n      <td>0.077990</td>\n      <td>4.483190</td>\n    </tr>\n    <tr>\n      <th>min</th>\n      <td>5.000000</td>\n      <td>321.000000</td>\n      <td>0.000000</td>\n      <td>0.000000</td>\n      <td>157.000000</td>\n      <td>169.000000</td>\n      <td>0.700000</td>\n      <td>2.000000</td>\n    </tr>\n    <tr>\n      <th>25%</th>\n      <td>5.000000</td>\n      <td>329.000000</td>\n      <td>0.000000</td>\n      <td>0.000000</td>\n      <td>164.000000</td>\n      <td>173.000000</td>\n      <td>1.030000</td>\n      <td>4.000000</td>\n    </tr>\n    <tr>\n      <th>50%</th>\n      <td>5.000000</td>\n      <td>336.000000</td>\n      <td>165.000000</td>\n      <td>182.000000</td>\n      <td>167.000000</td>\n      <td>176.000000</td>\n      <td>1.060000</td>\n      <td>10.000000</td>\n    </tr>\n    <tr>\n      <th>75%</th>\n      <td>5.010000</td>\n      <td>355.000000</td>\n      <td>171.500000</td>\n      <td>184.500000</td>\n      <td>168.000000</td>\n      <td>179.000000</td>\n      <td>1.080000</td>\n      <td>11.000000</td>\n    </tr>\n    <tr>\n      <th>max</th>\n      <td>5.090000</td>\n      <td>396.000000</td>\n      <td>179.000000</td>\n      <td>189.000000</td>\n      <td>170.000000</td>\n      <td>227.000000</td>\n      <td>1.150000</td>\n      <td>18.000000</td>\n    </tr>\n  </tbody>\n</table>\n</div>"
     },
     "execution_count": 600,
     "metadata": {},
     "output_type": "execute_result"
    }
   ],
   "source": [
    "# Summer runs preview\n",
    "summer_runs = summer_runs.reset_index(drop=True).sort_values(by=\"Date\")\n",
    "summer_runs.describe()"
   ],
   "metadata": {
    "collapsed": false,
    "pycharm": {
     "name": "#%%\n"
    }
   }
  },
  {
   "cell_type": "code",
   "execution_count": 601,
   "outputs": [
    {
     "data": {
      "text/plain": "        Distance    Calories      Avg HR      Max HR  Avg Run Cadence  \\\ncount  33.000000   33.000000   33.000000   33.000000        33.000000   \nmean    5.003636  342.272727  148.424242  163.696970       166.696970   \nstd     0.005488   12.950079   56.136012   61.809427         2.098881   \nmin     5.000000  316.000000    0.000000    0.000000       162.000000   \n25%     5.000000  333.000000  165.000000  183.000000       166.000000   \n50%     5.000000  343.000000  169.000000  185.000000       167.000000   \n75%     5.010000  353.000000  171.000000  188.000000       168.000000   \nmax     5.020000  363.000000  176.000000  195.000000       170.000000   \n\n       Max Run Cadence  Avg Stride Length  Route Index  \ncount        33.000000          33.000000    33.000000  \nmean        176.151515           1.062121     9.272727  \nstd           4.131595           0.032669     4.252005  \nmin         169.000000           0.950000     2.000000  \n25%         175.000000           1.050000     6.000000  \n50%         176.000000           1.060000    10.000000  \n75%         178.000000           1.080000    14.000000  \nmax         188.000000           1.130000    15.000000  ",
      "text/html": "<div>\n<style scoped>\n    .dataframe tbody tr th:only-of-type {\n        vertical-align: middle;\n    }\n\n    .dataframe tbody tr th {\n        vertical-align: top;\n    }\n\n    .dataframe thead th {\n        text-align: right;\n    }\n</style>\n<table border=\"1\" class=\"dataframe\">\n  <thead>\n    <tr style=\"text-align: right;\">\n      <th></th>\n      <th>Distance</th>\n      <th>Calories</th>\n      <th>Avg HR</th>\n      <th>Max HR</th>\n      <th>Avg Run Cadence</th>\n      <th>Max Run Cadence</th>\n      <th>Avg Stride Length</th>\n      <th>Route Index</th>\n    </tr>\n  </thead>\n  <tbody>\n    <tr>\n      <th>count</th>\n      <td>33.000000</td>\n      <td>33.000000</td>\n      <td>33.000000</td>\n      <td>33.000000</td>\n      <td>33.000000</td>\n      <td>33.000000</td>\n      <td>33.000000</td>\n      <td>33.000000</td>\n    </tr>\n    <tr>\n      <th>mean</th>\n      <td>5.003636</td>\n      <td>342.272727</td>\n      <td>148.424242</td>\n      <td>163.696970</td>\n      <td>166.696970</td>\n      <td>176.151515</td>\n      <td>1.062121</td>\n      <td>9.272727</td>\n    </tr>\n    <tr>\n      <th>std</th>\n      <td>0.005488</td>\n      <td>12.950079</td>\n      <td>56.136012</td>\n      <td>61.809427</td>\n      <td>2.098881</td>\n      <td>4.131595</td>\n      <td>0.032669</td>\n      <td>4.252005</td>\n    </tr>\n    <tr>\n      <th>min</th>\n      <td>5.000000</td>\n      <td>316.000000</td>\n      <td>0.000000</td>\n      <td>0.000000</td>\n      <td>162.000000</td>\n      <td>169.000000</td>\n      <td>0.950000</td>\n      <td>2.000000</td>\n    </tr>\n    <tr>\n      <th>25%</th>\n      <td>5.000000</td>\n      <td>333.000000</td>\n      <td>165.000000</td>\n      <td>183.000000</td>\n      <td>166.000000</td>\n      <td>175.000000</td>\n      <td>1.050000</td>\n      <td>6.000000</td>\n    </tr>\n    <tr>\n      <th>50%</th>\n      <td>5.000000</td>\n      <td>343.000000</td>\n      <td>169.000000</td>\n      <td>185.000000</td>\n      <td>167.000000</td>\n      <td>176.000000</td>\n      <td>1.060000</td>\n      <td>10.000000</td>\n    </tr>\n    <tr>\n      <th>75%</th>\n      <td>5.010000</td>\n      <td>353.000000</td>\n      <td>171.000000</td>\n      <td>188.000000</td>\n      <td>168.000000</td>\n      <td>178.000000</td>\n      <td>1.080000</td>\n      <td>14.000000</td>\n    </tr>\n    <tr>\n      <th>max</th>\n      <td>5.020000</td>\n      <td>363.000000</td>\n      <td>176.000000</td>\n      <td>195.000000</td>\n      <td>170.000000</td>\n      <td>188.000000</td>\n      <td>1.130000</td>\n      <td>15.000000</td>\n    </tr>\n  </tbody>\n</table>\n</div>"
     },
     "execution_count": 601,
     "metadata": {},
     "output_type": "execute_result"
    }
   ],
   "source": [
    "# Winter runs preview\n",
    "winter_runs = winter_runs.reset_index(drop=True).sort_values(by=\"Date\")\n",
    "winter_runs.describe()"
   ],
   "metadata": {
    "collapsed": false,
    "pycharm": {
     "name": "#%%\n"
    }
   }
  },
  {
   "cell_type": "markdown",
   "source": [
    "#### identifying the range of hours in which I mostly run at"
   ],
   "metadata": {
    "collapsed": false,
    "pycharm": {
     "name": "#%% md\n"
    }
   }
  },
  {
   "cell_type": "code",
   "execution_count": 643,
   "outputs": [],
   "source": [
    "def time_as_number(df: pd.DataFrame) -> list:\n",
    "    \"\"\"\n",
    "    param df: dataframe full of running data\n",
    "    return: a list of numbers that represent the hour as in form of <Hour.Part of the hour>\n",
    "    \"\"\"\n",
    "    list = []\n",
    "    for time in df[\"Time\"]:\n",
    "        list.append(time.hour + (time.minute / 60))\n",
    "    return list"
   ],
   "metadata": {
    "collapsed": false,
    "pycharm": {
     "name": "#%%\n"
    }
   }
  },
  {
   "cell_type": "code",
   "execution_count": 650,
   "outputs": [
    {
     "data": {
      "text/plain": "<Figure size 640x480 with 1 Axes>",
      "image/png": "[encoded data removed]"
     },
     "metadata": {},
     "output_type": "display_data"
    }
   ],
   "source": [
    "# range of running hours by season\n",
    "fig, ax = plt.subplots()\n",
    "hours_data = [time_as_number(summer_runs), time_as_number(winter_runs)]\n",
    "ax.boxplot(hours_data, vert=False)\n",
    "plt.yticks([1, 2], [\"Summer\", \"Winter\"])\n",
    "plt.xlabel(\"Hours\")\n",
    "plt.show()"
   ],
   "metadata": {
    "collapsed": false,
    "pycharm": {
     "name": "#%%\n"
    }
   }
  },
  {
   "cell_type": "code",
   "execution_count": 603,
   "outputs": [],
   "source": [],
   "metadata": {
    "collapsed": false,
    "pycharm": {
     "name": "#%%\n"
    }
   }
  }
 ],
 "metadata": {
  "kernelspec": {
   "display_name": "Python 3 (ipykernel)",
   "language": "python",
   "name": "python3"
  },
  "language_info": {
   "codemirror_mode": {
    "name": "ipython",
    "version": 3
   },
   "file_extension": ".py",
   "mimetype": "text/x-python",
   "name": "python",
   "nbconvert_exporter": "python",
   "pygments_lexer": "ipython3",
   "version": "3.8.6"
  }
 },
 "nbformat": 4,
 "nbformat_minor": 1
}