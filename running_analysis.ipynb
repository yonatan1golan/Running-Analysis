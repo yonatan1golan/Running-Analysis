{
 "cells": [
  {
   "cell_type": "code",
   "execution_count": 42,
   "metadata": {
    "pycharm": {
     "name": "#%%\n"
    }
   },
   "outputs": [],
   "source": [
    "\"\"\"imports\"\"\"\n",
    "import pandas as pd\n",
    "import math\n",
    "import datetime"
   ]
  },
  {
   "cell_type": "code",
   "execution_count": 43,
   "outputs": [],
   "source": [
    "\"\"\"loading data\"\"\"\n",
    "def load_data(url: str) -> pd.DataFrame:\n",
    "    return pd.read_csv(url)\n",
    "url = r\"running_activities.csv\"\n",
    "data = load_data(url)"
   ],
   "metadata": {
    "collapsed": false,
    "pycharm": {
     "name": "#%%\n"
    }
   }
  },
  {
   "cell_type": "code",
   "execution_count": 44,
   "outputs": [
    {
     "data": {
      "text/plain": "  Activity Type              Date  Distance  Calories     Time  Avg HR  \\\n0       Running  12/09/2022 21:00      7.01       464  0:41:59       0   \n1       Running  08/09/2022 20:02      5.00       329  0:28:19       0   \n2       Running  05/09/2022 20:50      7.01       460  0:40:02       0   \n3       Running  03/09/2022 20:10      7.00       464  0:41:36       0   \n4       Running  01/09/2022 20:42      5.01       331  0:28:57       0   \n\n   Max HR  Avg Run Cadence  Max Run Cadence Avg Pace  ... Total Descent  \\\n0       0              169              192     6:00  ...            55   \n1       0              168              176     5:39  ...            34   \n2       0              169              175     5:43  ...            57   \n3       0              170              182     5:56  ...            53   \n4       0              167              175     5:47  ...            35   \n\n  Avg Stride Length Moving Time  Elapsed Time Min Elevation Max Elevation  \\\n0              0.99     0:41:54       0:41:59            50            80   \n1              1.05     0:28:18       0:28:24            55            80   \n2              1.04     0:39:56       0:40:02            50            80   \n3              0.99     0:41:34       0:41:36            52            78   \n4              1.03     0:28:50       0:28:57            50            79   \n\n  Effort Self Feel               Route      Place  \n0      9         3        7km_toForest  Ein Vered  \n1      8         5  5km_mostlyInMoshav  Ein Vered  \n2      8         5        7km_toForest  Ein Vered  \n3      7         5        7km_toForest  Ein Vered  \n4      8         5        5km_withOfek  Ein Vered  \n\n[5 rows x 22 columns]",
      "text/html": "<div>\n<style scoped>\n    .dataframe tbody tr th:only-of-type {\n        vertical-align: middle;\n    }\n\n    .dataframe tbody tr th {\n        vertical-align: top;\n    }\n\n    .dataframe thead th {\n        text-align: right;\n    }\n</style>\n<table border=\"1\" class=\"dataframe\">\n  <thead>\n    <tr style=\"text-align: right;\">\n      <th></th>\n      <th>Activity Type</th>\n      <th>Date</th>\n      <th>Distance</th>\n      <th>Calories</th>\n      <th>Time</th>\n      <th>Avg HR</th>\n      <th>Max HR</th>\n      <th>Avg Run Cadence</th>\n      <th>Max Run Cadence</th>\n      <th>Avg Pace</th>\n      <th>...</th>\n      <th>Total Descent</th>\n      <th>Avg Stride Length</th>\n      <th>Moving Time</th>\n      <th>Elapsed Time</th>\n      <th>Min Elevation</th>\n      <th>Max Elevation</th>\n      <th>Effort</th>\n      <th>Self Feel</th>\n      <th>Route</th>\n      <th>Place</th>\n    </tr>\n  </thead>\n  <tbody>\n    <tr>\n      <th>0</th>\n      <td>Running</td>\n      <td>12/09/2022 21:00</td>\n      <td>7.01</td>\n      <td>464</td>\n      <td>0:41:59</td>\n      <td>0</td>\n      <td>0</td>\n      <td>169</td>\n      <td>192</td>\n      <td>6:00</td>\n      <td>...</td>\n      <td>55</td>\n      <td>0.99</td>\n      <td>0:41:54</td>\n      <td>0:41:59</td>\n      <td>50</td>\n      <td>80</td>\n      <td>9</td>\n      <td>3</td>\n      <td>7km_toForest</td>\n      <td>Ein Vered</td>\n    </tr>\n    <tr>\n      <th>1</th>\n      <td>Running</td>\n      <td>08/09/2022 20:02</td>\n      <td>5.00</td>\n      <td>329</td>\n      <td>0:28:19</td>\n      <td>0</td>\n      <td>0</td>\n      <td>168</td>\n      <td>176</td>\n      <td>5:39</td>\n      <td>...</td>\n      <td>34</td>\n      <td>1.05</td>\n      <td>0:28:18</td>\n      <td>0:28:24</td>\n      <td>55</td>\n      <td>80</td>\n      <td>8</td>\n      <td>5</td>\n      <td>5km_mostlyInMoshav</td>\n      <td>Ein Vered</td>\n    </tr>\n    <tr>\n      <th>2</th>\n      <td>Running</td>\n      <td>05/09/2022 20:50</td>\n      <td>7.01</td>\n      <td>460</td>\n      <td>0:40:02</td>\n      <td>0</td>\n      <td>0</td>\n      <td>169</td>\n      <td>175</td>\n      <td>5:43</td>\n      <td>...</td>\n      <td>57</td>\n      <td>1.04</td>\n      <td>0:39:56</td>\n      <td>0:40:02</td>\n      <td>50</td>\n      <td>80</td>\n      <td>8</td>\n      <td>5</td>\n      <td>7km_toForest</td>\n      <td>Ein Vered</td>\n    </tr>\n    <tr>\n      <th>3</th>\n      <td>Running</td>\n      <td>03/09/2022 20:10</td>\n      <td>7.00</td>\n      <td>464</td>\n      <td>0:41:36</td>\n      <td>0</td>\n      <td>0</td>\n      <td>170</td>\n      <td>182</td>\n      <td>5:56</td>\n      <td>...</td>\n      <td>53</td>\n      <td>0.99</td>\n      <td>0:41:34</td>\n      <td>0:41:36</td>\n      <td>52</td>\n      <td>78</td>\n      <td>7</td>\n      <td>5</td>\n      <td>7km_toForest</td>\n      <td>Ein Vered</td>\n    </tr>\n    <tr>\n      <th>4</th>\n      <td>Running</td>\n      <td>01/09/2022 20:42</td>\n      <td>5.01</td>\n      <td>331</td>\n      <td>0:28:57</td>\n      <td>0</td>\n      <td>0</td>\n      <td>167</td>\n      <td>175</td>\n      <td>5:47</td>\n      <td>...</td>\n      <td>35</td>\n      <td>1.03</td>\n      <td>0:28:50</td>\n      <td>0:28:57</td>\n      <td>50</td>\n      <td>79</td>\n      <td>8</td>\n      <td>5</td>\n      <td>5km_withOfek</td>\n      <td>Ein Vered</td>\n    </tr>\n  </tbody>\n</table>\n<p>5 rows × 22 columns</p>\n</div>"
     },
     "execution_count": 44,
     "metadata": {},
     "output_type": "execute_result"
    }
   ],
   "source": [
    "\"\"\"show a bit of the data\"\"\"\n",
    "data.head()"
   ],
   "metadata": {
    "collapsed": false,
    "pycharm": {
     "name": "#%%\n"
    }
   }
  },
  {
   "cell_type": "code",
   "execution_count": 45,
   "outputs": [
    {
     "data": {
      "text/plain": "  Activity Type              Date  Distance  Calories     Time  Avg HR  \\\n0       Running  08/09/2022 20:02      5.00       329  0:28:19       0   \n1       Running  01/09/2022 20:42      5.01       331  0:28:57       0   \n2       Running  25/08/2022 18:58      5.01       321  0:28:10       0   \n3       Running  22/08/2022 20:32      5.00       333  0:29:10       0   \n4       Running  18/08/2022 18:45      5.01       328  0:28:11       0   \n\n   Max HR  Avg Run Cadence  Max Run Cadence Avg Pace  ... Total Descent  \\\n0       0              168              176     5:39  ...            34   \n1       0              167              175     5:47  ...            35   \n2       0              167              173     5:38  ...            45   \n3       0              169              175     5:50  ...            32   \n4       0              168              176     5:38  ...            43   \n\n  Avg Stride Length Moving Time  Elapsed Time Min Elevation Max Elevation  \\\n0              1.05     0:28:18       0:28:24            55            80   \n1              1.03     0:28:50       0:28:57            50            79   \n2              1.06     0:27:40       0:28:10            53            81   \n3              1.01     0:29:03       0:29:10            54            78   \n4              1.06     0:28:06       0:28:11            53            81   \n\n  Effort Self Feel               Route      Place  \n0      8         5  5km_mostlyInMoshav  Ein Vered  \n1      8         5        5km_withOfek  Ein Vered  \n2      7         5     5km_withoutOfek  Ein Vered  \n3     10         4        5km_withOfek  Ein Vered  \n4      9         5        5km_withOfek  Ein Vered  \n\n[5 rows x 22 columns]",
      "text/html": "<div>\n<style scoped>\n    .dataframe tbody tr th:only-of-type {\n        vertical-align: middle;\n    }\n\n    .dataframe tbody tr th {\n        vertical-align: top;\n    }\n\n    .dataframe thead th {\n        text-align: right;\n    }\n</style>\n<table border=\"1\" class=\"dataframe\">\n  <thead>\n    <tr style=\"text-align: right;\">\n      <th></th>\n      <th>Activity Type</th>\n      <th>Date</th>\n      <th>Distance</th>\n      <th>Calories</th>\n      <th>Time</th>\n      <th>Avg HR</th>\n      <th>Max HR</th>\n      <th>Avg Run Cadence</th>\n      <th>Max Run Cadence</th>\n      <th>Avg Pace</th>\n      <th>...</th>\n      <th>Total Descent</th>\n      <th>Avg Stride Length</th>\n      <th>Moving Time</th>\n      <th>Elapsed Time</th>\n      <th>Min Elevation</th>\n      <th>Max Elevation</th>\n      <th>Effort</th>\n      <th>Self Feel</th>\n      <th>Route</th>\n      <th>Place</th>\n    </tr>\n  </thead>\n  <tbody>\n    <tr>\n      <th>0</th>\n      <td>Running</td>\n      <td>08/09/2022 20:02</td>\n      <td>5.00</td>\n      <td>329</td>\n      <td>0:28:19</td>\n      <td>0</td>\n      <td>0</td>\n      <td>168</td>\n      <td>176</td>\n      <td>5:39</td>\n      <td>...</td>\n      <td>34</td>\n      <td>1.05</td>\n      <td>0:28:18</td>\n      <td>0:28:24</td>\n      <td>55</td>\n      <td>80</td>\n      <td>8</td>\n      <td>5</td>\n      <td>5km_mostlyInMoshav</td>\n      <td>Ein Vered</td>\n    </tr>\n    <tr>\n      <th>1</th>\n      <td>Running</td>\n      <td>01/09/2022 20:42</td>\n      <td>5.01</td>\n      <td>331</td>\n      <td>0:28:57</td>\n      <td>0</td>\n      <td>0</td>\n      <td>167</td>\n      <td>175</td>\n      <td>5:47</td>\n      <td>...</td>\n      <td>35</td>\n      <td>1.03</td>\n      <td>0:28:50</td>\n      <td>0:28:57</td>\n      <td>50</td>\n      <td>79</td>\n      <td>8</td>\n      <td>5</td>\n      <td>5km_withOfek</td>\n      <td>Ein Vered</td>\n    </tr>\n    <tr>\n      <th>2</th>\n      <td>Running</td>\n      <td>25/08/2022 18:58</td>\n      <td>5.01</td>\n      <td>321</td>\n      <td>0:28:10</td>\n      <td>0</td>\n      <td>0</td>\n      <td>167</td>\n      <td>173</td>\n      <td>5:38</td>\n      <td>...</td>\n      <td>45</td>\n      <td>1.06</td>\n      <td>0:27:40</td>\n      <td>0:28:10</td>\n      <td>53</td>\n      <td>81</td>\n      <td>7</td>\n      <td>5</td>\n      <td>5km_withoutOfek</td>\n      <td>Ein Vered</td>\n    </tr>\n    <tr>\n      <th>3</th>\n      <td>Running</td>\n      <td>22/08/2022 20:32</td>\n      <td>5.00</td>\n      <td>333</td>\n      <td>0:29:10</td>\n      <td>0</td>\n      <td>0</td>\n      <td>169</td>\n      <td>175</td>\n      <td>5:50</td>\n      <td>...</td>\n      <td>32</td>\n      <td>1.01</td>\n      <td>0:29:03</td>\n      <td>0:29:10</td>\n      <td>54</td>\n      <td>78</td>\n      <td>10</td>\n      <td>4</td>\n      <td>5km_withOfek</td>\n      <td>Ein Vered</td>\n    </tr>\n    <tr>\n      <th>4</th>\n      <td>Running</td>\n      <td>18/08/2022 18:45</td>\n      <td>5.01</td>\n      <td>328</td>\n      <td>0:28:11</td>\n      <td>0</td>\n      <td>0</td>\n      <td>168</td>\n      <td>176</td>\n      <td>5:38</td>\n      <td>...</td>\n      <td>43</td>\n      <td>1.06</td>\n      <td>0:28:06</td>\n      <td>0:28:11</td>\n      <td>53</td>\n      <td>81</td>\n      <td>9</td>\n      <td>5</td>\n      <td>5km_withOfek</td>\n      <td>Ein Vered</td>\n    </tr>\n  </tbody>\n</table>\n<p>5 rows × 22 columns</p>\n</div>"
     },
     "execution_count": 45,
     "metadata": {},
     "output_type": "execute_result"
    }
   ],
   "source": [
    "\"\"\"gathering all the 5km runs\"\"\"\n",
    "epsilon_of_five = 0.05\n",
    "five_km_runs = data.loc[(data[\"Distance\"] >= 5-epsilon_of_five) & (data[\"Distance\"] <= 5+epsilon_of_five)]\n",
    "five_km_runs = five_km_runs.reset_index(drop=True)\n",
    "five_km_runs.head(5)"
   ],
   "metadata": {
    "collapsed": false,
    "pycharm": {
     "name": "#%%\n"
    }
   }
  },
  {
   "cell_type": "code",
   "execution_count": 46,
   "outputs": [
    {
     "ename": "AttributeError",
     "evalue": "'DataFrame' object has no attribute 'to_timedelta'",
     "output_type": "error",
     "traceback": [
      "\u001B[1;31m---------------------------------------------------------------------------\u001B[0m",
      "\u001B[1;31mAttributeError\u001B[0m                            Traceback (most recent call last)",
      "Cell \u001B[1;32mIn [46], line 2\u001B[0m\n\u001B[0;32m      1\u001B[0m \u001B[38;5;124;03m\"\"\"making basic averages\"\"\"\u001B[39;00m\n\u001B[1;32m----> 2\u001B[0m five_km_runs[\u001B[38;5;124m\"\u001B[39m\u001B[38;5;124mTime\u001B[39m\u001B[38;5;124m\"\u001B[39m] \u001B[38;5;241m=\u001B[39m \u001B[43mfive_km_runs\u001B[49m\u001B[38;5;241;43m.\u001B[39;49m\u001B[43mto_timedelta\u001B[49m(five_km_runs\u001B[38;5;241m.\u001B[39mTime)\n\u001B[0;32m      3\u001B[0m tot_time_of_5_kms \u001B[38;5;241m=\u001B[39m five_km_runs[\u001B[38;5;124m\"\u001B[39m\u001B[38;5;124mTime\u001B[39m\u001B[38;5;124m\"\u001B[39m]\u001B[38;5;241m.\u001B[39msum()\n\u001B[0;32m      4\u001B[0m \u001B[38;5;28mprint\u001B[39m(\u001B[38;5;124m\"\u001B[39m\u001B[38;5;124mTotal time of the 5km runs is\u001B[39m\u001B[38;5;124m\"\u001B[39m, tot_time_of_5_kms)\n",
      "File \u001B[1;32m~\\OneDrive\\Desktop\\python_projects\\running_analysis\\venv\\lib\\site-packages\\pandas\\core\\generic.py:5575\u001B[0m, in \u001B[0;36mNDFrame.__getattr__\u001B[1;34m(self, name)\u001B[0m\n\u001B[0;32m   5568\u001B[0m \u001B[38;5;28;01mif\u001B[39;00m (\n\u001B[0;32m   5569\u001B[0m     name \u001B[38;5;129;01mnot\u001B[39;00m \u001B[38;5;129;01min\u001B[39;00m \u001B[38;5;28mself\u001B[39m\u001B[38;5;241m.\u001B[39m_internal_names_set\n\u001B[0;32m   5570\u001B[0m     \u001B[38;5;129;01mand\u001B[39;00m name \u001B[38;5;129;01mnot\u001B[39;00m \u001B[38;5;129;01min\u001B[39;00m \u001B[38;5;28mself\u001B[39m\u001B[38;5;241m.\u001B[39m_metadata\n\u001B[0;32m   5571\u001B[0m     \u001B[38;5;129;01mand\u001B[39;00m name \u001B[38;5;129;01mnot\u001B[39;00m \u001B[38;5;129;01min\u001B[39;00m \u001B[38;5;28mself\u001B[39m\u001B[38;5;241m.\u001B[39m_accessors\n\u001B[0;32m   5572\u001B[0m     \u001B[38;5;129;01mand\u001B[39;00m \u001B[38;5;28mself\u001B[39m\u001B[38;5;241m.\u001B[39m_info_axis\u001B[38;5;241m.\u001B[39m_can_hold_identifiers_and_holds_name(name)\n\u001B[0;32m   5573\u001B[0m ):\n\u001B[0;32m   5574\u001B[0m     \u001B[38;5;28;01mreturn\u001B[39;00m \u001B[38;5;28mself\u001B[39m[name]\n\u001B[1;32m-> 5575\u001B[0m \u001B[38;5;28;01mreturn\u001B[39;00m \u001B[38;5;28;43mobject\u001B[39;49m\u001B[38;5;241;43m.\u001B[39;49m\u001B[38;5;21;43m__getattribute__\u001B[39;49m\u001B[43m(\u001B[49m\u001B[38;5;28;43mself\u001B[39;49m\u001B[43m,\u001B[49m\u001B[43m \u001B[49m\u001B[43mname\u001B[49m\u001B[43m)\u001B[49m\n",
      "\u001B[1;31mAttributeError\u001B[0m: 'DataFrame' object has no attribute 'to_timedelta'"
     ]
    }
   ],
   "source": [
    "\"\"\"making basic averages\"\"\"\n",
    "five_km_runs[\"Time\"] = five_km_runs.to_timedelta(five_km_runs.Time)\n",
    "tot_time_of_5_kms = five_km_runs[\"Time\"].sum()\n",
    "print(\"testing\")\n",
    "print(\"Another test\")"
   ],
   "metadata": {
    "collapsed": false,
    "pycharm": {
     "name": "#%%\n"
    }
   }
  },
  {
   "cell_type": "code",
   "execution_count": null,
   "outputs": [],
   "source": [],
   "metadata": {
    "collapsed": false,
    "pycharm": {
     "name": "#%%\n"
    }
   }
  }
 ],
 "metadata": {
  "kernelspec": {
   "display_name": "Python 3 (ipykernel)",
   "language": "python",
   "name": "python3"
  },
  "language_info": {
   "codemirror_mode": {
    "name": "ipython",
    "version": 3
   },
   "file_extension": ".py",
   "mimetype": "text/x-python",
   "name": "python",
   "nbconvert_exporter": "python",
   "pygments_lexer": "ipython3",
   "version": "3.8.6"
  }
 },
 "nbformat": 4,
 "nbformat_minor": 1
}