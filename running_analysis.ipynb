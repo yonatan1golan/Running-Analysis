{
 "cells": [
  {
   "cell_type": "markdown",
   "source": [
    "# Running Analysis\n",
    "## Garmin data"
   ],
   "metadata": {
    "collapsed": false,
    "pycharm": {
     "name": "#%% md\n"
    }
   }
  },
  {
   "cell_type": "markdown",
   "source": [
    "### importing libraries"
   ],
   "metadata": {
    "collapsed": false,
    "pycharm": {
     "name": "#%% md\n"
    }
   }
  },
  {
   "cell_type": "code",
   "execution_count": 1,
   "outputs": [],
   "source": [
    "import pandas as pd\n",
    "import matplotlib.pyplot as plt\n",
    "import seaborn as sns"
   ],
   "metadata": {
    "collapsed": false,
    "pycharm": {
     "name": "#%%\n"
    }
   }
  },
  {
   "cell_type": "markdown",
   "source": [
    "### loading data"
   ],
   "metadata": {
    "collapsed": false,
    "pycharm": {
     "name": "#%% md\n"
    }
   }
  },
  {
   "cell_type": "code",
   "execution_count": 2,
   "outputs": [],
   "source": [
    "def load_data(file: str) -> pd.DataFrame:\n",
    "    \"\"\"\n",
    "    :param file: the name of the file with the running data\n",
    "    :return: dataframe with the data\n",
    "    \"\"\"\n",
    "    return pd.read_csv(file)\n",
    "file = r\"running_activities.csv\"\n",
    "data = load_data(file)"
   ],
   "metadata": {
    "collapsed": false,
    "pycharm": {
     "name": "#%%\n"
    }
   }
  },
  {
   "cell_type": "code",
   "execution_count": 3,
   "outputs": [
    {
     "data": {
      "text/plain": "  Activity Type              Date  Distance  Calories     Time  Avg HR  \\\n0       Running  12/09/2022 21:00      7.01       464  0:41:59       0   \n1       Running  08/09/2022 20:02      5.00       329  0:28:19       0   \n2       Running  05/09/2022 20:50      7.01       460  0:40:02       0   \n3       Running  03/09/2022 20:10      7.00       464  0:41:36       0   \n4       Running  01/09/2022 20:42      5.01       331  0:28:57       0   \n\n   Max HR  Avg Run Cadence  Max Run Cadence Avg Pace  ... Total Descent  \\\n0       0              169              192     6:00  ...            55   \n1       0              168              176     5:39  ...            34   \n2       0              169              175     5:43  ...            57   \n3       0              170              182     5:56  ...            53   \n4       0              167              175     5:47  ...            35   \n\n  Avg Stride Length Moving Time  Elapsed Time Min Elevation Max Elevation  \\\n0              0.99     0:41:54       0:41:59            50            80   \n1              1.05     0:28:18       0:28:24            55            80   \n2              1.04     0:39:56       0:40:02            50            80   \n3              0.99     0:41:34       0:41:36            52            78   \n4              1.03     0:28:50       0:28:57            50            79   \n\n  Effort Self Feel               Route      Place  \n0      9         3        7km_toForest  Ein Vered  \n1      8         5  5km_mostlyInMoshav  Ein Vered  \n2      8         5        7km_toForest  Ein Vered  \n3      7         5        7km_toForest  Ein Vered  \n4      8         5        5km_withOfek  Ein Vered  \n\n[5 rows x 22 columns]",
      "text/html": "<div>\n<style scoped>\n    .dataframe tbody tr th:only-of-type {\n        vertical-align: middle;\n    }\n\n    .dataframe tbody tr th {\n        vertical-align: top;\n    }\n\n    .dataframe thead th {\n        text-align: right;\n    }\n</style>\n<table border=\"1\" class=\"dataframe\">\n  <thead>\n    <tr style=\"text-align: right;\">\n      <th></th>\n      <th>Activity Type</th>\n      <th>Date</th>\n      <th>Distance</th>\n      <th>Calories</th>\n      <th>Time</th>\n      <th>Avg HR</th>\n      <th>Max HR</th>\n      <th>Avg Run Cadence</th>\n      <th>Max Run Cadence</th>\n      <th>Avg Pace</th>\n      <th>...</th>\n      <th>Total Descent</th>\n      <th>Avg Stride Length</th>\n      <th>Moving Time</th>\n      <th>Elapsed Time</th>\n      <th>Min Elevation</th>\n      <th>Max Elevation</th>\n      <th>Effort</th>\n      <th>Self Feel</th>\n      <th>Route</th>\n      <th>Place</th>\n    </tr>\n  </thead>\n  <tbody>\n    <tr>\n      <th>0</th>\n      <td>Running</td>\n      <td>12/09/2022 21:00</td>\n      <td>7.01</td>\n      <td>464</td>\n      <td>0:41:59</td>\n      <td>0</td>\n      <td>0</td>\n      <td>169</td>\n      <td>192</td>\n      <td>6:00</td>\n      <td>...</td>\n      <td>55</td>\n      <td>0.99</td>\n      <td>0:41:54</td>\n      <td>0:41:59</td>\n      <td>50</td>\n      <td>80</td>\n      <td>9</td>\n      <td>3</td>\n      <td>7km_toForest</td>\n      <td>Ein Vered</td>\n    </tr>\n    <tr>\n      <th>1</th>\n      <td>Running</td>\n      <td>08/09/2022 20:02</td>\n      <td>5.00</td>\n      <td>329</td>\n      <td>0:28:19</td>\n      <td>0</td>\n      <td>0</td>\n      <td>168</td>\n      <td>176</td>\n      <td>5:39</td>\n      <td>...</td>\n      <td>34</td>\n      <td>1.05</td>\n      <td>0:28:18</td>\n      <td>0:28:24</td>\n      <td>55</td>\n      <td>80</td>\n      <td>8</td>\n      <td>5</td>\n      <td>5km_mostlyInMoshav</td>\n      <td>Ein Vered</td>\n    </tr>\n    <tr>\n      <th>2</th>\n      <td>Running</td>\n      <td>05/09/2022 20:50</td>\n      <td>7.01</td>\n      <td>460</td>\n      <td>0:40:02</td>\n      <td>0</td>\n      <td>0</td>\n      <td>169</td>\n      <td>175</td>\n      <td>5:43</td>\n      <td>...</td>\n      <td>57</td>\n      <td>1.04</td>\n      <td>0:39:56</td>\n      <td>0:40:02</td>\n      <td>50</td>\n      <td>80</td>\n      <td>8</td>\n      <td>5</td>\n      <td>7km_toForest</td>\n      <td>Ein Vered</td>\n    </tr>\n    <tr>\n      <th>3</th>\n      <td>Running</td>\n      <td>03/09/2022 20:10</td>\n      <td>7.00</td>\n      <td>464</td>\n      <td>0:41:36</td>\n      <td>0</td>\n      <td>0</td>\n      <td>170</td>\n      <td>182</td>\n      <td>5:56</td>\n      <td>...</td>\n      <td>53</td>\n      <td>0.99</td>\n      <td>0:41:34</td>\n      <td>0:41:36</td>\n      <td>52</td>\n      <td>78</td>\n      <td>7</td>\n      <td>5</td>\n      <td>7km_toForest</td>\n      <td>Ein Vered</td>\n    </tr>\n    <tr>\n      <th>4</th>\n      <td>Running</td>\n      <td>01/09/2022 20:42</td>\n      <td>5.01</td>\n      <td>331</td>\n      <td>0:28:57</td>\n      <td>0</td>\n      <td>0</td>\n      <td>167</td>\n      <td>175</td>\n      <td>5:47</td>\n      <td>...</td>\n      <td>35</td>\n      <td>1.03</td>\n      <td>0:28:50</td>\n      <td>0:28:57</td>\n      <td>50</td>\n      <td>79</td>\n      <td>8</td>\n      <td>5</td>\n      <td>5km_withOfek</td>\n      <td>Ein Vered</td>\n    </tr>\n  </tbody>\n</table>\n<p>5 rows × 22 columns</p>\n</div>"
     },
     "execution_count": 3,
     "metadata": {},
     "output_type": "execute_result"
    }
   ],
   "source": [
    "data.head()"
   ],
   "metadata": {
    "collapsed": false,
    "pycharm": {
     "name": "#%%\n"
    }
   }
  },
  {
   "cell_type": "markdown",
   "source": [
    "### Data pre-proccessing"
   ],
   "metadata": {
    "collapsed": false,
    "pycharm": {
     "name": "#%% md\n"
    }
   }
  },
  {
   "cell_type": "markdown",
   "source": [
    "#### filtering all the five km runs"
   ],
   "metadata": {
    "collapsed": false,
    "pycharm": {
     "name": "#%% md\n"
    }
   }
  },
  {
   "cell_type": "code",
   "execution_count": 11,
   "outputs": [
    {
     "data": {
      "text/plain": "        Distance    Calories      Avg HR      Max HR  Avg Run Cadence  \\\ncount  88.000000   88.000000   88.000000   88.000000        88.000000   \nmean    5.005568  343.090909  122.806818  134.375000       166.170455   \nstd     0.011127   16.713706   75.767014   82.805868         2.496994   \nmin     5.000000  316.000000    0.000000    0.000000       157.000000   \n25%     5.000000  329.000000    0.000000    0.000000       165.000000   \n50%     5.000000  341.500000  167.000000  183.000000       167.000000   \n75%     5.010000  353.500000  171.250000  186.000000       168.000000   \nmax     5.090000  396.000000  179.000000  195.000000       170.000000   \n\n       Max Run Cadence  Avg Stride Length  \ncount        88.000000          88.000000  \nmean        177.886364           1.047727  \nstd          10.033773           0.065526  \nmin         169.000000           0.700000  \n25%         173.000000           1.040000  \n50%         176.000000           1.060000  \n75%         178.000000           1.080000  \nmax         227.000000           1.150000  ",
      "text/html": "<div>\n<style scoped>\n    .dataframe tbody tr th:only-of-type {\n        vertical-align: middle;\n    }\n\n    .dataframe tbody tr th {\n        vertical-align: top;\n    }\n\n    .dataframe thead th {\n        text-align: right;\n    }\n</style>\n<table border=\"1\" class=\"dataframe\">\n  <thead>\n    <tr style=\"text-align: right;\">\n      <th></th>\n      <th>Distance</th>\n      <th>Calories</th>\n      <th>Avg HR</th>\n      <th>Max HR</th>\n      <th>Avg Run Cadence</th>\n      <th>Max Run Cadence</th>\n      <th>Avg Stride Length</th>\n    </tr>\n  </thead>\n  <tbody>\n    <tr>\n      <th>count</th>\n      <td>88.000000</td>\n      <td>88.000000</td>\n      <td>88.000000</td>\n      <td>88.000000</td>\n      <td>88.000000</td>\n      <td>88.000000</td>\n      <td>88.000000</td>\n    </tr>\n    <tr>\n      <th>mean</th>\n      <td>5.005568</td>\n      <td>343.090909</td>\n      <td>122.806818</td>\n      <td>134.375000</td>\n      <td>166.170455</td>\n      <td>177.886364</td>\n      <td>1.047727</td>\n    </tr>\n    <tr>\n      <th>std</th>\n      <td>0.011127</td>\n      <td>16.713706</td>\n      <td>75.767014</td>\n      <td>82.805868</td>\n      <td>2.496994</td>\n      <td>10.033773</td>\n      <td>0.065526</td>\n    </tr>\n    <tr>\n      <th>min</th>\n      <td>5.000000</td>\n      <td>316.000000</td>\n      <td>0.000000</td>\n      <td>0.000000</td>\n      <td>157.000000</td>\n      <td>169.000000</td>\n      <td>0.700000</td>\n    </tr>\n    <tr>\n      <th>25%</th>\n      <td>5.000000</td>\n      <td>329.000000</td>\n      <td>0.000000</td>\n      <td>0.000000</td>\n      <td>165.000000</td>\n      <td>173.000000</td>\n      <td>1.040000</td>\n    </tr>\n    <tr>\n      <th>50%</th>\n      <td>5.000000</td>\n      <td>341.500000</td>\n      <td>167.000000</td>\n      <td>183.000000</td>\n      <td>167.000000</td>\n      <td>176.000000</td>\n      <td>1.060000</td>\n    </tr>\n    <tr>\n      <th>75%</th>\n      <td>5.010000</td>\n      <td>353.500000</td>\n      <td>171.250000</td>\n      <td>186.000000</td>\n      <td>168.000000</td>\n      <td>178.000000</td>\n      <td>1.080000</td>\n    </tr>\n    <tr>\n      <th>max</th>\n      <td>5.090000</td>\n      <td>396.000000</td>\n      <td>179.000000</td>\n      <td>195.000000</td>\n      <td>170.000000</td>\n      <td>227.000000</td>\n      <td>1.150000</td>\n    </tr>\n  </tbody>\n</table>\n</div>"
     },
     "execution_count": 11,
     "metadata": {},
     "output_type": "execute_result"
    }
   ],
   "source": [
    "epsilon_of_five = 0.1\n",
    "five_km_runs = data.loc[(data[\"Distance\"] >= 5-epsilon_of_five) & (data[\"Distance\"] <= 5+epsilon_of_five)]\n",
    "five_km_runs = five_km_runs.reset_index(drop=True)\n",
    "five_km_runs.describe()"
   ],
   "metadata": {
    "collapsed": false,
    "pycharm": {
     "name": "#%%\n"
    }
   }
  },
  {
   "cell_type": "code",
   "execution_count": 5,
   "outputs": [
    {
     "ename": "AttributeError",
     "evalue": "'DataFrame' object has no attribute 'to_timedelta'",
     "output_type": "error",
     "traceback": [
      "\u001B[1;31m---------------------------------------------------------------------------\u001B[0m",
      "\u001B[1;31mAttributeError\u001B[0m                            Traceback (most recent call last)",
      "Cell \u001B[1;32mIn [5], line 2\u001B[0m\n\u001B[0;32m      1\u001B[0m \u001B[38;5;124;03m\"\"\"making basic averages\"\"\"\u001B[39;00m\n\u001B[1;32m----> 2\u001B[0m five_km_runs[\u001B[38;5;124m\"\u001B[39m\u001B[38;5;124mTime\u001B[39m\u001B[38;5;124m\"\u001B[39m] \u001B[38;5;241m=\u001B[39m \u001B[43mfive_km_runs\u001B[49m\u001B[38;5;241;43m.\u001B[39;49m\u001B[43mto_timedelta\u001B[49m(five_km_runs\u001B[38;5;241m.\u001B[39mTime)\n\u001B[0;32m      3\u001B[0m tot_time_of_5_kms \u001B[38;5;241m=\u001B[39m five_km_runs[\u001B[38;5;124m\"\u001B[39m\u001B[38;5;124mTime\u001B[39m\u001B[38;5;124m\"\u001B[39m]\u001B[38;5;241m.\u001B[39msum()\n\u001B[0;32m      4\u001B[0m \u001B[38;5;28mprint\u001B[39m(\u001B[38;5;124m\"\u001B[39m\u001B[38;5;124mtesting\u001B[39m\u001B[38;5;124m\"\u001B[39m)\n",
      "File \u001B[1;32m~\\OneDrive\\Desktop\\python_projects\\running_analysis\\venv\\lib\\site-packages\\pandas\\core\\generic.py:5575\u001B[0m, in \u001B[0;36mNDFrame.__getattr__\u001B[1;34m(self, name)\u001B[0m\n\u001B[0;32m   5568\u001B[0m \u001B[38;5;28;01mif\u001B[39;00m (\n\u001B[0;32m   5569\u001B[0m     name \u001B[38;5;129;01mnot\u001B[39;00m \u001B[38;5;129;01min\u001B[39;00m \u001B[38;5;28mself\u001B[39m\u001B[38;5;241m.\u001B[39m_internal_names_set\n\u001B[0;32m   5570\u001B[0m     \u001B[38;5;129;01mand\u001B[39;00m name \u001B[38;5;129;01mnot\u001B[39;00m \u001B[38;5;129;01min\u001B[39;00m \u001B[38;5;28mself\u001B[39m\u001B[38;5;241m.\u001B[39m_metadata\n\u001B[0;32m   5571\u001B[0m     \u001B[38;5;129;01mand\u001B[39;00m name \u001B[38;5;129;01mnot\u001B[39;00m \u001B[38;5;129;01min\u001B[39;00m \u001B[38;5;28mself\u001B[39m\u001B[38;5;241m.\u001B[39m_accessors\n\u001B[0;32m   5572\u001B[0m     \u001B[38;5;129;01mand\u001B[39;00m \u001B[38;5;28mself\u001B[39m\u001B[38;5;241m.\u001B[39m_info_axis\u001B[38;5;241m.\u001B[39m_can_hold_identifiers_and_holds_name(name)\n\u001B[0;32m   5573\u001B[0m ):\n\u001B[0;32m   5574\u001B[0m     \u001B[38;5;28;01mreturn\u001B[39;00m \u001B[38;5;28mself\u001B[39m[name]\n\u001B[1;32m-> 5575\u001B[0m \u001B[38;5;28;01mreturn\u001B[39;00m \u001B[38;5;28;43mobject\u001B[39;49m\u001B[38;5;241;43m.\u001B[39;49m\u001B[38;5;21;43m__getattribute__\u001B[39;49m\u001B[43m(\u001B[49m\u001B[38;5;28;43mself\u001B[39;49m\u001B[43m,\u001B[49m\u001B[43m \u001B[49m\u001B[43mname\u001B[49m\u001B[43m)\u001B[49m\n",
      "\u001B[1;31mAttributeError\u001B[0m: 'DataFrame' object has no attribute 'to_timedelta'"
     ]
    }
   ],
   "source": [
    "\"\"\"making basic averages\"\"\"\n",
    "five_km_runs[\"Time\"] = five_km_runs.to_timedelta(five_km_runs.Time)\n",
    "tot_time_of_5_kms = five_km_runs[\"Time\"].sum()\n",
    "print(\"testing\")\n",
    "print(\"Another test\")"
   ],
   "metadata": {
    "collapsed": false,
    "pycharm": {
     "name": "#%%\n"
    }
   }
  },
  {
   "cell_type": "code",
   "execution_count": null,
   "outputs": [],
   "source": [],
   "metadata": {
    "collapsed": false,
    "pycharm": {
     "name": "#%%\n"
    }
   }
  }
 ],
 "metadata": {
  "kernelspec": {
   "display_name": "Python 3 (ipykernel)",
   "language": "python",
   "name": "python3"
  },
  "language_info": {
   "codemirror_mode": {
    "name": "ipython",
    "version": 3
   },
   "file_extension": ".py",
   "mimetype": "text/x-python",
   "name": "python",
   "nbconvert_exporter": "python",
   "pygments_lexer": "ipython3",
   "version": "3.8.6"
  }
 },
 "nbformat": 4,
 "nbformat_minor": 1
}